{
 "cells": [
  {
   "attachments": {},
   "cell_type": "markdown",
   "id": "8c563bf3",
   "metadata": {},
   "source": [
    "# Making a Bayes Classifier from scratch"
   ]
  },
  {
   "attachments": {},
   "cell_type": "markdown",
   "id": "c2f6b179",
   "metadata": {},
   "source": [
    "### Importing libraries\n"
   ]
  },
  {
   "cell_type": "code",
   "execution_count": 1,
   "id": "bb9864fb",
   "metadata": {},
   "outputs": [],
   "source": [
    "import numpy as np\n",
    "import pandas as pd\n",
    "from sklearn.metrics import accuracy_score\n",
    "from math import exp\n",
    "from math import pi\n"
   ]
  },
  {
   "attachments": {},
   "cell_type": "markdown",
   "id": "51fb90ee",
   "metadata": {},
   "source": [
    "### Reading data"
   ]
  },
  {
   "cell_type": "code",
   "execution_count": 2,
   "id": "aea53620",
   "metadata": {},
   "outputs": [
    {
     "data": {
      "text/html": [
       "<div>\n",
       "<style scoped>\n",
       "    .dataframe tbody tr th:only-of-type {\n",
       "        vertical-align: middle;\n",
       "    }\n",
       "\n",
       "    .dataframe tbody tr th {\n",
       "        vertical-align: top;\n",
       "    }\n",
       "\n",
       "    .dataframe thead th {\n",
       "        text-align: right;\n",
       "    }\n",
       "</style>\n",
       "<table border=\"1\" class=\"dataframe\">\n",
       "  <thead>\n",
       "    <tr style=\"text-align: right;\">\n",
       "      <th></th>\n",
       "      <th>x1</th>\n",
       "      <th>x2</th>\n",
       "      <th>y</th>\n",
       "    </tr>\n",
       "  </thead>\n",
       "  <tbody>\n",
       "    <tr>\n",
       "      <th>0</th>\n",
       "      <td>-1.346823</td>\n",
       "      <td>1.229842</td>\n",
       "      <td>1</td>\n",
       "    </tr>\n",
       "    <tr>\n",
       "      <th>1</th>\n",
       "      <td>0.607223</td>\n",
       "      <td>-1.060221</td>\n",
       "      <td>3</td>\n",
       "    </tr>\n",
       "    <tr>\n",
       "      <th>2</th>\n",
       "      <td>-0.718530</td>\n",
       "      <td>0.948297</td>\n",
       "      <td>1</td>\n",
       "    </tr>\n",
       "    <tr>\n",
       "      <th>3</th>\n",
       "      <td>-1.497588</td>\n",
       "      <td>1.264141</td>\n",
       "      <td>1</td>\n",
       "    </tr>\n",
       "    <tr>\n",
       "      <th>4</th>\n",
       "      <td>1.217092</td>\n",
       "      <td>1.040403</td>\n",
       "      <td>2</td>\n",
       "    </tr>\n",
       "    <tr>\n",
       "      <th>5</th>\n",
       "      <td>0.517683</td>\n",
       "      <td>-1.165068</td>\n",
       "      <td>3</td>\n",
       "    </tr>\n",
       "    <tr>\n",
       "      <th>6</th>\n",
       "      <td>-0.893270</td>\n",
       "      <td>-0.713677</td>\n",
       "      <td>0</td>\n",
       "    </tr>\n",
       "  </tbody>\n",
       "</table>\n",
       "</div>"
      ],
      "text/plain": [
       "         x1        x2  y\n",
       "0 -1.346823  1.229842  1\n",
       "1  0.607223 -1.060221  3\n",
       "2 -0.718530  0.948297  1\n",
       "3 -1.497588  1.264141  1\n",
       "4  1.217092  1.040403  2\n",
       "5  0.517683 -1.165068  3\n",
       "6 -0.893270 -0.713677  0"
      ]
     },
     "execution_count": 2,
     "metadata": {},
     "output_type": "execute_result"
    }
   ],
   "source": [
    "df = pd.read_csv('Dataset1.csv')\n",
    "ndf = df.to_numpy()\n",
    "df.head(7)"
   ]
  },
  {
   "attachments": {},
   "cell_type": "markdown",
   "id": "5627ae6f",
   "metadata": {},
   "source": [
    "### Initializing given values"
   ]
  },
  {
   "cell_type": "code",
   "execution_count": 3,
   "id": "76b605e9",
   "metadata": {},
   "outputs": [],
   "source": [
    "u01 = -1\n",
    "u02 = -1\n",
    "u11 = -1\n",
    "u12 = 1\n",
    "u21 = 1\n",
    "u22 = 1\n",
    "u31 = 1\n",
    "u32 = -1\n",
    "\n",
    "var1 = 0.1\n",
    "var2 = 0.1\n",
    "\n",
    "probclass0 = 0.1\n",
    "probclass1 = 0.3\n",
    "probclass2 = 0.25\n",
    "probclass3 = 0.35"
   ]
  },
  {
   "attachments": {},
   "cell_type": "markdown",
   "id": "0d68fbb7",
   "metadata": {},
   "source": [
    "### Building a classifier function"
   ]
  },
  {
   "cell_type": "code",
   "execution_count": 4,
   "id": "dbf4a28c",
   "metadata": {},
   "outputs": [],
   "source": [
    "def Bclassifier(ndf,u1,u2, classprob,va1 ,va2):\n",
    "        expo =(exp((-(ndf[0] - u1)**2)/(2*va1) + (-(ndf[1] - u2)**2)/(2*va2)))/2*pi*(va1*va2)**(1/2) \n",
    "        prob = expo*classprob\n",
    "        return prob"
   ]
  },
  {
   "attachments": {},
   "cell_type": "markdown",
   "id": "6c281146",
   "metadata": {},
   "source": [
    "### Classifing data"
   ]
  },
  {
   "cell_type": "code",
   "execution_count": 5,
   "id": "76a37648",
   "metadata": {},
   "outputs": [],
   "source": [
    "predclass = [-1 for i in range(10000)]\n",
    "\n",
    "for i in range(10000):\n",
    "    \n",
    "    maxp = 0\n",
    "    maxpi = -1\n",
    "    for j in range(4):\n",
    "        temp =-10\n",
    "        match j :\n",
    "            case 0:\n",
    "                temp = Bclassifier(ndf[i,:],u01,u02, probclass0,var1,var2)\n",
    "            case 1:\n",
    "                temp = Bclassifier(ndf[i,:],u11,u12, probclass1,var1,var2)\n",
    "            case 2:\n",
    "                temp = Bclassifier(ndf[i,:],u21,u22, probclass2,var1,var2)\n",
    "            case 3:\n",
    "                temp = Bclassifier(ndf[i,:],u31,u32, probclass3,var1,var2)\n",
    "        \n",
    "        if temp> maxp:\n",
    "            maxp =temp\n",
    "            maxpi =j\n",
    "            \n",
    "    predclass[i] = maxpi\n",
    "\n"
   ]
  },
  {
   "attachments": {},
   "cell_type": "markdown",
   "id": "8c4c4587",
   "metadata": {},
   "source": [
    "### Probability Of Error"
   ]
  },
  {
   "cell_type": "code",
   "execution_count": 6,
   "id": "89c5e7a0",
   "metadata": {},
   "outputs": [
    {
     "name": "stdout",
     "output_type": "stream",
     "text": [
      "0.0020000000000000018\n"
     ]
    }
   ],
   "source": [
    "accu = accuracy_score(ndf[:,2] , predclass)\n",
    "POE = 1-accu\n",
    "print(POE)"
   ]
  },
  {
   "attachments": {},
   "cell_type": "markdown",
   "id": "cb2525f1",
   "metadata": {},
   "source": [
    "# PART 2\n"
   ]
  },
  {
   "attachments": {},
   "cell_type": "markdown",
   "id": "2b85e45b",
   "metadata": {},
   "source": [
    "### Calculating Priori Probability of training set"
   ]
  },
  {
   "cell_type": "code",
   "execution_count": 7,
   "id": "dffe959d",
   "metadata": {},
   "outputs": [
    {
     "name": "stdout",
     "output_type": "stream",
     "text": [
      "Calculating Priori Probability for first 5000 elements as training set\n",
      "Priori probability of class 0: 0.1034\n",
      "Priori probability of class 1: 0.2926\n",
      "Priori probability of class 2: 0.256\n",
      "Priori probability of class 3: 0.348\n"
     ]
    }
   ],
   "source": [
    "classcount0 = classcount1 = classcount2 = classcount3 = 0\n",
    "\n",
    "for i in range(5000):\n",
    "    \n",
    "    match ndf[i,2]:\n",
    "        case 0:\n",
    "            classcount0 +=1\n",
    "        case 1:\n",
    "            classcount1 +=1\n",
    "        case 2:\n",
    "            classcount2 +=1\n",
    "        case 3: \n",
    "            classcount3 +=1\n",
    "\n",
    "            \n",
    "            \n",
    "prior0 =classcount0/5000            \n",
    "prior1 =classcount1/5000 \n",
    "prior2 =classcount2/5000\n",
    "prior3 =classcount3/5000\n",
    "\n",
    "\n",
    "print(\"Calculating Priori Probability for first 5000 elements as training set\")\n",
    "print(\"Priori probability of class 0:\", prior0)\n",
    "print(\"Priori probability of class 1:\", prior1)\n",
    "print(\"Priori probability of class 2:\", prior2)\n",
    "print(\"Priori probability of class 3:\", prior3)"
   ]
  },
  {
   "attachments": {},
   "cell_type": "markdown",
   "id": "83a9947d",
   "metadata": {},
   "source": [
    "### Calculating Varience for training set"
   ]
  },
  {
   "cell_type": "code",
   "execution_count": 8,
   "id": "c9e7b395",
   "metadata": {},
   "outputs": [],
   "source": [
    "def varience(ni):\n",
    "    sumvar =0\n",
    "    \n",
    "    if ni ==0:\n",
    "        u0 = u1= -1\n",
    "        u2 = u3 = 1\n",
    "    elif ni ==1:\n",
    "        u0 = u3= -1\n",
    "        u2 = u1 = 1         \n",
    "        \n",
    "    for i in range(5000):\n",
    "\n",
    "        match ndf[i,2]:\n",
    "            case 0:\n",
    "                n = (ndf[i,ni]-u0)**2\n",
    "                sumvar += n\n",
    "            case 1:\n",
    "                n = (ndf[i,ni]-u1)**2\n",
    "                sumvar += n\n",
    "            case 2:\n",
    "                n = (ndf[i,ni]-u2)**2\n",
    "                sumvar += n\n",
    "            case 3:\n",
    "                n = (ndf[i,ni]-u3)**2\n",
    "                sumvar += n\n",
    "                \n",
    "    newvar1 = sumvar/5000\n",
    "    print(newvar1)\n",
    "    return newvar1"
   ]
  },
  {
   "cell_type": "code",
   "execution_count": 9,
   "id": "e628f924",
   "metadata": {},
   "outputs": [
    {
     "name": "stdout",
     "output_type": "stream",
     "text": [
      "0.09939782901427276\n",
      "0.09822951195635882\n"
     ]
    }
   ],
   "source": [
    "newv1 = varience(0)\n",
    "newv2 = varience(1)"
   ]
  },
  {
   "attachments": {},
   "cell_type": "markdown",
   "id": "ccfcdaa0",
   "metadata": {},
   "source": [
    "### Classifing data for test set ie 5000 to 10000 elements"
   ]
  },
  {
   "attachments": {},
   "cell_type": "markdown",
   "id": "3d0e51df",
   "metadata": {},
   "source": [
    "### Calculating POE using information given."
   ]
  },
  {
   "cell_type": "code",
   "execution_count": 10,
   "id": "5cf81da8",
   "metadata": {},
   "outputs": [
    {
     "name": "stdout",
     "output_type": "stream",
     "text": [
      "0.0020000000000000018\n"
     ]
    }
   ],
   "source": [
    "predclass = [-1 for i in range(5000)]\n",
    "\n",
    "for i in range(5000):\n",
    "    \n",
    "    maxp = 0\n",
    "    maxpi = -1\n",
    "    for j in range(4):\n",
    "        temp =-10\n",
    "        match j :\n",
    "            case 0:\n",
    "                temp = Bclassifier(ndf[i+5000,:],u01,u02, probclass0,var1,var2)\n",
    "            case 1:\n",
    "                temp = Bclassifier(ndf[i+5000,:],u11,u12, probclass1,var1,var2)\n",
    "            case 2:\n",
    "                temp = Bclassifier(ndf[i+5000,:],u21,u22, probclass2,var1,var2)\n",
    "            case 3:\n",
    "                temp = Bclassifier(ndf[i+5000,:],u31,u32, probclass3,var1,var2)\n",
    "        \n",
    "        if temp> maxp:\n",
    "            maxp =temp\n",
    "            maxpi =j\n",
    "            \n",
    "    predclass[i] = maxpi\n",
    "\n",
    "    \n",
    "accu = accuracy_score(ndf[-5000:,2] , predclass)\n",
    "POE = 1-accu\n",
    "print(POE)"
   ]
  },
  {
   "attachments": {},
   "cell_type": "markdown",
   "id": "67ecb5a9",
   "metadata": {},
   "source": [
    "### Calculating POE using obtained vales"
   ]
  },
  {
   "cell_type": "code",
   "execution_count": 11,
   "id": "a468ba91",
   "metadata": {},
   "outputs": [],
   "source": [
    "predclass = [-1 for i in range(5000)]\n",
    "\n",
    "for i in range(5000):\n",
    "    \n",
    "    maxp = 0\n",
    "    maxpi = -1\n",
    "    for j in range(4):\n",
    "        temp =-10\n",
    "        match j :\n",
    "            case 0:\n",
    "                temp = Bclassifier(ndf[i+5000,:],u01,u02, prior0,newv1,newv2)\n",
    "            case 1:\n",
    "                temp = Bclassifier(ndf[i+5000,:],u11,u12, prior1,newv1,newv2)\n",
    "            case 2:\n",
    "                temp = Bclassifier(ndf[i+5000,:],u21,u22, prior2,newv1,newv2)\n",
    "            case 3:\n",
    "                temp = Bclassifier(ndf[i+5000,:],u31,u32, prior3,newv1,newv2)\n",
    "        \n",
    "        if temp> maxp:\n",
    "            maxp =temp\n",
    "            maxpi =j\n",
    "            \n",
    "    predclass[i] = maxpi\n"
   ]
  },
  {
   "attachments": {},
   "cell_type": "markdown",
   "id": "c9458531",
   "metadata": {},
   "source": [
    "### Predicting POE for test set"
   ]
  },
  {
   "cell_type": "code",
   "execution_count": 12,
   "id": "b9be2e63",
   "metadata": {
    "scrolled": true
   },
   "outputs": [
    {
     "name": "stdout",
     "output_type": "stream",
     "text": [
      "0.0018000000000000238\n"
     ]
    }
   ],
   "source": [
    "accu = accuracy_score(ndf[-5000:,2] , predclass)\n",
    "POE = 1-accu\n",
    "print(POE)"
   ]
  }
 ],
 "metadata": {
  "kernelspec": {
   "display_name": "Python 3 (ipykernel)",
   "language": "python",
   "name": "python3"
  },
  "language_info": {
   "codemirror_mode": {
    "name": "ipython",
    "version": 3
   },
   "file_extension": ".py",
   "mimetype": "text/x-python",
   "name": "python",
   "nbconvert_exporter": "python",
   "pygments_lexer": "ipython3",
   "version": "3.11.1"
  }
 },
 "nbformat": 4,
 "nbformat_minor": 5
}
